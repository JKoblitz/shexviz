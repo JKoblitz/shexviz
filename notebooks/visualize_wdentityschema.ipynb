{
 "cells": [
  {
   "cell_type": "code",
   "execution_count": 11,
   "metadata": {
    "collapsed": true
   },
   "outputs": [],
   "source": [
    "from shexviz import shex2dot\n",
    "import requests"
   ]
  },
  {
   "cell_type": "code",
   "execution_count": 12,
   "outputs": [],
   "source": [
    "shex = requests.get(\"https://www.wikidata.org/wiki/Special:EntitySchemaText/E37\").text"
   ],
   "metadata": {
    "collapsed": false,
    "pycharm": {
     "name": "#%%\n"
    }
   }
  },
  {
   "cell_type": "code",
   "execution_count": 13,
   "outputs": [
    {
     "name": "stdout",
     "output_type": "stream",
     "text": [
      " E108: <https://www.wikidata.org/wiki/Special:EntitySchemaText/E108#>\n",
      " E109: <https://www.wikidata.org/wiki/Special:EntitySchemaText/E109#>\n",
      " wd: <http://www.wikidata.org/entity/>\n",
      " wdt: <http://www.wikidata.org/prop/direct/>\n",
      " p: <http://www.wikidata.org/prop/>\n",
      " prov: <http://www.w3.org/ns/prov#>\n",
      " pq: <http://www.wikidata.org/prop/qualifier/>\n",
      " xsd: <http://www.w3.org/2001/XMLSchema#>\n",
      " prv: <http://www.wikidata.org/prop/reference/value/>\n",
      " pr:  <http://www.wikidata.org/prop/reference/>\n",
      " ps: <http://www.wikidata.org/prop/statement/>\n",
      "Valid: False\n",
      "[TripleConstraint(type='TripleConstraint', id=None, inverse=None, predicate='http://www.wikidata.org/prop/P31', valueExpr='http://www.wikidata.org/entity/#P31_instance_of_gene', min=None, max=None, onShapeExpression=None, semActs=None, annotations=None), EachOf(type='EachOf', id=None, expressions=[TripleConstraint(type='TripleConstraint', id=None, inverse=None, predicate='http://www.wikidata.org/prop/P644', valueExpr='http://www.wikidata.org/entity/#P644_genomic_start', min=None, max=None, onShapeExpression=None, semActs=None, annotations=None), TripleConstraint(type='TripleConstraint', id=None, inverse=None, predicate='http://www.wikidata.org/prop/P645', valueExpr='http://www.wikidata.org/entity/#P645_genomic_end', min=None, max=None, onShapeExpression=None, semActs=None, annotations=None)], min=0, max=-1, semActs=None, annotations=None), TripleConstraint(type='TripleConstraint', id=None, inverse=None, predicate='http://www.wikidata.org/prop/P684', valueExpr='http://www.wikidata.org/entity/#P684_ortholog', min=0, max=-1, onShapeExpression=None, semActs=None, annotations=None), TripleConstraint(type='TripleConstraint', id=None, inverse=None, predicate='http://www.wikidata.org/prop/P688', valueExpr='http://www.wikidata.org/entity/#P688_encodes', min=0, max=-1, onShapeExpression=None, semActs=None, annotations=None), TripleConstraint(type='TripleConstraint', id=None, inverse=None, predicate='http://www.wikidata.org/prop/P703', valueExpr='http://www.wikidata.org/entity/#P703_found_in_taxon_human', min=None, max=None, onShapeExpression=None, semActs=None, annotations=None), TripleConstraint(type='TripleConstraint', id=None, inverse=None, predicate='http://www.wikidata.org/prop/P1057', valueExpr='http://www.wikidata.org/entity/#P1057_chromosome', min=0, max=-1, onShapeExpression=None, semActs=None, annotations=None), TripleConstraint(type='TripleConstraint', id=None, inverse=None, predicate='http://www.wikidata.org/prop/P2888', valueExpr=None, min=None, max=None, onShapeExpression=None, semActs=None, annotations=None), TripleConstraint(type='TripleConstraint', id=None, inverse=None, predicate='http://www.wikidata.org/prop/P2548', valueExpr='http://www.wikidata.org/entity/#P2548_strand_orientation', min=None, max=None, onShapeExpression=None, semActs=None, annotations=None), TripleConstraint(type='TripleConstraint', id=None, inverse=None, predicate='http://www.wikidata.org/prop/P351', valueExpr='http://www.wikidata.org/entity/#P351_ncbi_gene_id', min=None, max=None, onShapeExpression=None, semActs=None, annotations=None), TripleConstraint(type='TripleConstraint', id=None, inverse=None, predicate='http://www.wikidata.org/prop/P353', valueExpr='http://www.wikidata.org/entity/#P353_hgnc_gene_symbol', min=None, max=None, onShapeExpression=None, semActs=None, annotations=None), TripleConstraint(type='TripleConstraint', id=None, inverse=None, predicate='http://www.wikidata.org/prop/P354', valueExpr='http://www.wikidata.org/entity/#P354_hgnc_gene_id', min=None, max=None, onShapeExpression=None, semActs=None, annotations=None), TripleConstraint(type='TripleConstraint', id=None, inverse=None, predicate='http://www.wikidata.org/prop/P594', valueExpr='http://www.wikidata.org/entity/#P594_ensembl_gene_id', min=0, max=-1, onShapeExpression=None, semActs=None, annotations=None), TripleConstraint(type='TripleConstraint', id=None, inverse=None, predicate='http://www.wikidata.org/prop/P639', valueExpr='http://www.wikidata.org/entity/#P639_refseq_rna_id', min=0, max=-1, onShapeExpression=None, semActs=None, annotations=None), TripleConstraint(type='TripleConstraint', id=None, inverse=None, predicate='http://www.wikidata.org/prop/P704', valueExpr='http://www.wikidata.org/entity/#P704_ensembl_transcript_id', min=0, max=-1, onShapeExpression=None, semActs=None, annotations=None), TripleConstraint(type='TripleConstraint', id=None, inverse=None, predicate='http://www.wikidata.org/prop/P593', valueExpr='http://www.wikidata.org/entity/#P593_homologene_id', min=None, max=None, onShapeExpression=None, semActs=None, annotations=None), TripleConstraint(type='TripleConstraint', id=None, inverse=None, predicate='http://www.wikidata.org/prop/P352', valueExpr='http://www.wikidata.org/entity/#P352_uniprot_id_wor', min=0, max=0, onShapeExpression=None, semActs=None, annotations=None)]\n",
      "http://www.wikidata.org/entity/#wikidata-human-gene\n",
      "TripleConstraint(type='TripleConstraint', id=None, inverse=None, predicate='http://www.wikidata.org/prop/P31', valueExpr='http://www.wikidata.org/entity/#P31_instance_of_gene', min=None, max=None, onShapeExpression=None, semActs=None, annotations=None)\n",
      "EachOf(type='EachOf', id=None, expressions=[TripleConstraint(type='TripleConstraint', id=None, inverse=None, predicate='http://www.wikidata.org/prop/P644', valueExpr='http://www.wikidata.org/entity/#P644_genomic_start', min=None, max=None, onShapeExpression=None, semActs=None, annotations=None), TripleConstraint(type='TripleConstraint', id=None, inverse=None, predicate='http://www.wikidata.org/prop/P645', valueExpr='http://www.wikidata.org/entity/#P645_genomic_end', min=None, max=None, onShapeExpression=None, semActs=None, annotations=None)], min=0, max=-1, semActs=None, annotations=None)\n",
      "TripleConstraint(type='TripleConstraint', id=None, inverse=None, predicate='http://www.wikidata.org/prop/P684', valueExpr='http://www.wikidata.org/entity/#P684_ortholog', min=0, max=-1, onShapeExpression=None, semActs=None, annotations=None)\n",
      "TripleConstraint(type='TripleConstraint', id=None, inverse=None, predicate='http://www.wikidata.org/prop/P688', valueExpr='http://www.wikidata.org/entity/#P688_encodes', min=0, max=-1, onShapeExpression=None, semActs=None, annotations=None)\n",
      "TripleConstraint(type='TripleConstraint', id=None, inverse=None, predicate='http://www.wikidata.org/prop/P703', valueExpr='http://www.wikidata.org/entity/#P703_found_in_taxon_human', min=None, max=None, onShapeExpression=None, semActs=None, annotations=None)\n",
      "TripleConstraint(type='TripleConstraint', id=None, inverse=None, predicate='http://www.wikidata.org/prop/P1057', valueExpr='http://www.wikidata.org/entity/#P1057_chromosome', min=0, max=-1, onShapeExpression=None, semActs=None, annotations=None)\n",
      "TripleConstraint(type='TripleConstraint', id=None, inverse=None, predicate='http://www.wikidata.org/prop/P2888', valueExpr=None, min=None, max=None, onShapeExpression=None, semActs=None, annotations=None)\n",
      "No valueExpr\n",
      "TripleConstraint(type='TripleConstraint', id=None, inverse=None, predicate='http://www.wikidata.org/prop/P2548', valueExpr='http://www.wikidata.org/entity/#P2548_strand_orientation', min=None, max=None, onShapeExpression=None, semActs=None, annotations=None)\n",
      "TripleConstraint(type='TripleConstraint', id=None, inverse=None, predicate='http://www.wikidata.org/prop/P351', valueExpr='http://www.wikidata.org/entity/#P351_ncbi_gene_id', min=None, max=None, onShapeExpression=None, semActs=None, annotations=None)\n",
      "TripleConstraint(type='TripleConstraint', id=None, inverse=None, predicate='http://www.wikidata.org/prop/P353', valueExpr='http://www.wikidata.org/entity/#P353_hgnc_gene_symbol', min=None, max=None, onShapeExpression=None, semActs=None, annotations=None)\n",
      "TripleConstraint(type='TripleConstraint', id=None, inverse=None, predicate='http://www.wikidata.org/prop/P354', valueExpr='http://www.wikidata.org/entity/#P354_hgnc_gene_id', min=None, max=None, onShapeExpression=None, semActs=None, annotations=None)\n",
      "TripleConstraint(type='TripleConstraint', id=None, inverse=None, predicate='http://www.wikidata.org/prop/P594', valueExpr='http://www.wikidata.org/entity/#P594_ensembl_gene_id', min=0, max=-1, onShapeExpression=None, semActs=None, annotations=None)\n",
      "TripleConstraint(type='TripleConstraint', id=None, inverse=None, predicate='http://www.wikidata.org/prop/P639', valueExpr='http://www.wikidata.org/entity/#P639_refseq_rna_id', min=0, max=-1, onShapeExpression=None, semActs=None, annotations=None)\n",
      "TripleConstraint(type='TripleConstraint', id=None, inverse=None, predicate='http://www.wikidata.org/prop/P704', valueExpr='http://www.wikidata.org/entity/#P704_ensembl_transcript_id', min=0, max=-1, onShapeExpression=None, semActs=None, annotations=None)\n",
      "TripleConstraint(type='TripleConstraint', id=None, inverse=None, predicate='http://www.wikidata.org/prop/P593', valueExpr='http://www.wikidata.org/entity/#P593_homologene_id', min=None, max=None, onShapeExpression=None, semActs=None, annotations=None)\n",
      "TripleConstraint(type='TripleConstraint', id=None, inverse=None, predicate='http://www.wikidata.org/prop/P352', valueExpr='http://www.wikidata.org/entity/#P352_uniprot_id_wor', min=0, max=0, onShapeExpression=None, semActs=None, annotations=None)\n",
      "http://www.wikidata.org/entity/#P31_instance_of_gene\n",
      "TripleConstraint(type='TripleConstraint', id=None, inverse=None, predicate='http://www.wikidata.org/prop/statement/P31', valueExpr='http://www.wikidata.org/entity/#gene_types', min=None, max=None, onShapeExpression=None, semActs=None, annotations=None)\n",
      "TripleConstraint(type='TripleConstraint', id=None, inverse=None, predicate='http://www.w3.org/ns/prov#wasDerivedFrom', valueExpr=ShapeOr(type='ShapeOr', id=None, shapeExprs=['http://www.wikidata.org/entity/#ncbi-gene-reference', 'http://www.wikidata.org/entity/#ensembl-gene-reference']), min=None, max=None, onShapeExpression=None, semActs=None, annotations=None)\n",
      "No valueExpr\n",
      "http://www.wikidata.org/entity/#P279_subclass_of_gene\n",
      "TripleConstraint(type='TripleConstraint', id=None, inverse=None, predicate='http://www.wikidata.org/prop/statement/P279', valueExpr='http://www.wikidata.org/entity/#gene_types', min=None, max=None, onShapeExpression=None, semActs=None, annotations=None)\n",
      "TripleConstraint(type='TripleConstraint', id=None, inverse=None, predicate='http://www.w3.org/ns/prov#wasDerivedFrom', valueExpr=ShapeOr(type='ShapeOr', id=None, shapeExprs=['http://www.wikidata.org/entity/#ncbi-gene-reference', 'http://www.wikidata.org/entity/#ensembl-gene-reference']), min=None, max=None, onShapeExpression=None, semActs=None, annotations=None)\n",
      "No valueExpr\n",
      "http://www.wikidata.org/entity/#P644_genomic_start\n",
      "TripleConstraint(type='TripleConstraint', id=None, inverse=None, predicate='http://www.wikidata.org/prop/statement/P644', valueExpr=NodeConstraint(type='NodeConstraint', id=None, nodeKind='literal', datatype=None, values=None), min=None, max=None, onShapeExpression=None, semActs=None, annotations=None)\n",
      "TripleConstraint(type='TripleConstraint', id=None, inverse=None, predicate='http://www.wikidata.org/prop/qualifier/P1057', valueExpr='https://www.wikidata.org/wiki/Special:EntitySchemaText/E109#humanChromosome', min=1, max=-1, onShapeExpression=None, semActs=None, annotations=None)\n",
      "TripleConstraint(type='TripleConstraint', id=None, inverse=None, predicate='http://www.wikidata.org/prop/qualifier/P659', valueExpr='https://www.wikidata.org/wiki/Special:EntitySchemaText/E108#sequence_assembly', min=1, max=-1, onShapeExpression=None, semActs=None, annotations=None)\n",
      "TripleConstraint(type='TripleConstraint', id=None, inverse=None, predicate='http://www.w3.org/ns/prov#wasDerivedFrom', valueExpr='http://www.wikidata.org/entity/#ensembl-gene-reference', min=None, max=None, onShapeExpression=None, semActs=None, annotations=None)\n",
      "http://www.wikidata.org/entity/#P645_genomic_end\n",
      "TripleConstraint(type='TripleConstraint', id=None, inverse=None, predicate='http://www.wikidata.org/prop/statement/P645', valueExpr=NodeConstraint(type='NodeConstraint', id=None, nodeKind='literal', datatype=None, values=None), min=None, max=None, onShapeExpression=None, semActs=None, annotations=None)\n",
      "TripleConstraint(type='TripleConstraint', id=None, inverse=None, predicate='http://www.wikidata.org/prop/qualifier/P1057', valueExpr='https://www.wikidata.org/wiki/Special:EntitySchemaText/E109#humanChromosome', min=1, max=-1, onShapeExpression=None, semActs=None, annotations=None)\n",
      "TripleConstraint(type='TripleConstraint', id=None, inverse=None, predicate='http://www.wikidata.org/prop/qualifier/P659', valueExpr='https://www.wikidata.org/wiki/Special:EntitySchemaText/E108#sequence_assembly', min=1, max=-1, onShapeExpression=None, semActs=None, annotations=None)\n",
      "TripleConstraint(type='TripleConstraint', id=None, inverse=None, predicate='http://www.w3.org/ns/prov#wasDerivedFrom', valueExpr='http://www.wikidata.org/entity/#ensembl-gene-reference', min=None, max=None, onShapeExpression=None, semActs=None, annotations=None)\n",
      "http://www.wikidata.org/entity/#P684_ortholog\n",
      "TripleConstraint(type='TripleConstraint', id=None, inverse=None, predicate='http://www.wikidata.org/prop/statement/P684', valueExpr=NodeConstraint(type='NodeConstraint', id=None, nodeKind='iri', datatype=None, values=None), min=None, max=None, onShapeExpression=None, semActs=None, annotations=None)\n",
      "TripleConstraint(type='TripleConstraint', id=None, inverse=None, predicate='http://www.wikidata.org/prop/qualifier/P703', valueExpr=NodeConstraint(type='NodeConstraint', id=None, nodeKind='iri', datatype=None, values=None), min=None, max=None, onShapeExpression=None, semActs=None, annotations=None)\n",
      "TripleConstraint(type='TripleConstraint', id=None, inverse=None, predicate='http://www.w3.org/ns/prov#wasDerivedFrom', valueExpr='http://www.wikidata.org/entity/#homologene-reference', min=None, max=None, onShapeExpression=None, semActs=None, annotations=None)\n",
      "http://www.wikidata.org/entity/#P688_encodes\n",
      "TripleConstraint(type='TripleConstraint', id=None, inverse=None, predicate='http://www.wikidata.org/prop/statement/P688', valueExpr=NodeConstraint(type='NodeConstraint', id=None, nodeKind='iri', datatype=None, values=None), min=None, max=None, onShapeExpression=None, semActs=None, annotations=None)\n",
      "TripleConstraint(type='TripleConstraint', id=None, inverse=None, predicate='http://www.w3.org/ns/prov#wasDerivedFrom', valueExpr='http://www.wikidata.org/entity/#uniprot-reference', min=None, max=None, onShapeExpression=None, semActs=None, annotations=None)\n",
      "http://www.wikidata.org/entity/#P703_found_in_taxon_human\n",
      "TripleConstraint(type='TripleConstraint', id=None, inverse=None, predicate='http://www.wikidata.org/prop/statement/P703', valueExpr=NodeConstraint(type='NodeConstraint', id=None, nodeKind=None, datatype=None, values=['http://www.wikidata.org/entity/Q15978631']), min=None, max=None, onShapeExpression=None, semActs=None, annotations=None)\n",
      "TripleConstraint(type='TripleConstraint', id=None, inverse=None, predicate='http://www.w3.org/ns/prov#wasDerivedFrom', valueExpr=ShapeOr(type='ShapeOr', id=None, shapeExprs=['http://www.wikidata.org/entity/#ncbi-gene-reference', 'http://www.wikidata.org/entity/#ensembl-gene-reference']), min=None, max=None, onShapeExpression=None, semActs=None, annotations=None)\n",
      "No valueExpr\n",
      "http://www.wikidata.org/entity/#P1057_chromosome\n",
      "TripleConstraint(type='TripleConstraint', id=None, inverse=None, predicate='http://www.wikidata.org/prop/statement/P1057', valueExpr='https://www.wikidata.org/wiki/Special:EntitySchemaText/E109#humanChromosome', min=None, max=None, onShapeExpression=None, semActs=None, annotations=None)\n",
      "TripleConstraint(type='TripleConstraint', id=None, inverse=None, predicate='http://www.wikidata.org/prop/qualifier/P659', valueExpr='https://www.wikidata.org/wiki/Special:EntitySchemaText/E108#sequence_assembly', min=1, max=-1, onShapeExpression=None, semActs=None, annotations=None)\n",
      "TripleConstraint(type='TripleConstraint', id=None, inverse=None, predicate='http://www.w3.org/ns/prov#wasDerivedFrom', valueExpr='http://www.wikidata.org/entity/#ensembl-gene-reference', min=None, max=None, onShapeExpression=None, semActs=None, annotations=None)\n",
      "http://www.wikidata.org/entity/#P2888_exact_match\n",
      "TripleConstraint(type='TripleConstraint', id=None, inverse=None, predicate='http://www.wikidata.org/prop/statement/P2888', valueExpr=NodeConstraint(type='NodeConstraint', id=None, nodeKind='iri', datatype=None, values=None), min=None, max=None, onShapeExpression=None, semActs=None, annotations=None)\n",
      "TripleConstraint(type='TripleConstraint', id=None, inverse=None, predicate='http://www.w3.org/ns/prov#wasDerivedFrom', valueExpr=ShapeOr(type='ShapeOr', id=None, shapeExprs=['http://www.wikidata.org/entity/#miriam_reference', 'http://www.wikidata.org/entity/#ncbi-gene-reference']), min=None, max=None, onShapeExpression=None, semActs=None, annotations=None)\n",
      "No valueExpr\n",
      "http://www.wikidata.org/entity/#P2548_strand_orientation\n",
      "TripleConstraint(type='TripleConstraint', id=None, inverse=None, predicate='http://www.wikidata.org/prop/statement/P2548', valueExpr='http://www.wikidata.org/entity/#strand-orientation', min=None, max=None, onShapeExpression=None, semActs=None, annotations=None)\n",
      "TripleConstraint(type='TripleConstraint', id=None, inverse=None, predicate='http://www.wikidata.org/prop/qualifier/P659', valueExpr='https://www.wikidata.org/wiki/Special:EntitySchemaText/E108#sequence_assembly', min=1, max=-1, onShapeExpression=None, semActs=None, annotations=None)\n",
      "TripleConstraint(type='TripleConstraint', id=None, inverse=None, predicate='http://www.w3.org/ns/prov#wasDerivedFrom', valueExpr='http://www.wikidata.org/entity/#ensembl-gene-reference', min=None, max=None, onShapeExpression=None, semActs=None, annotations=None)\n",
      "http://www.wikidata.org/entity/#strand-orientation\n",
      "None\n",
      "http://www.wikidata.org/entity/#P351_ncbi_gene_id\n",
      "TripleConstraint(type='TripleConstraint', id=None, inverse=None, predicate='http://www.wikidata.org/prop/statement/P351', valueExpr=NodeConstraint(type='NodeConstraint', id=None, nodeKind='literal', datatype=None, values=None), min=None, max=None, onShapeExpression=None, semActs=None, annotations=None)\n",
      "TripleConstraint(type='TripleConstraint', id=None, inverse=None, predicate='http://www.w3.org/ns/prov#wasDerivedFrom', valueExpr='http://www.wikidata.org/entity/#ncbi-gene-reference', min=None, max=None, onShapeExpression=None, semActs=None, annotations=None)\n",
      "http://www.wikidata.org/entity/#P352_uniprot_id_wor\n",
      "TripleConstraint(type='TripleConstraint', id=None, inverse=None, predicate='http://www.wikidata.org/prop/statement/P352', valueExpr=NodeConstraint(type='NodeConstraint', id=None, nodeKind='literal', datatype=None, values=None), min=None, max=None, onShapeExpression=None, semActs=None, annotations=None)\n",
      "http://www.wikidata.org/entity/#P353_hgnc_gene_symbol\n",
      "TripleConstraint(type='TripleConstraint', id=None, inverse=None, predicate='http://www.wikidata.org/prop/statement/P353', valueExpr=NodeConstraint(type='NodeConstraint', id=None, nodeKind='literal', datatype=None, values=None), min=None, max=None, onShapeExpression=None, semActs=None, annotations=None)\n",
      "TripleConstraint(type='TripleConstraint', id=None, inverse=None, predicate='http://www.w3.org/ns/prov#wasDerivedFrom', valueExpr='http://www.wikidata.org/entity/#ncbi-gene-reference', min=None, max=None, onShapeExpression=None, semActs=None, annotations=None)\n",
      "http://www.wikidata.org/entity/#P354_hgnc_gene_id\n",
      "TripleConstraint(type='TripleConstraint', id=None, inverse=None, predicate='http://www.wikidata.org/prop/statement/P354', valueExpr=NodeConstraint(type='NodeConstraint', id=None, nodeKind='literal', datatype=None, values=None), min=None, max=None, onShapeExpression=None, semActs=None, annotations=None)\n",
      "TripleConstraint(type='TripleConstraint', id=None, inverse=None, predicate='http://www.w3.org/ns/prov#wasDerivedFrom', valueExpr='http://www.wikidata.org/entity/#ncbi-gene-reference', min=None, max=None, onShapeExpression=None, semActs=None, annotations=None)\n",
      "http://www.wikidata.org/entity/#P593_homologene_id\n",
      "TripleConstraint(type='TripleConstraint', id=None, inverse=None, predicate='http://www.wikidata.org/prop/statement/P593', valueExpr=NodeConstraint(type='NodeConstraint', id=None, nodeKind='literal', datatype=None, values=None), min=None, max=None, onShapeExpression=None, semActs=None, annotations=None)\n",
      "TripleConstraint(type='TripleConstraint', id=None, inverse=None, predicate='http://www.w3.org/ns/prov#wasDerivedFrom', valueExpr='http://www.wikidata.org/entity/#ncbi-gene-reference', min=None, max=None, onShapeExpression=None, semActs=None, annotations=None)\n",
      "http://www.wikidata.org/entity/#P594_ensembl_gene_id\n",
      "TripleConstraint(type='TripleConstraint', id=None, inverse=None, predicate='http://www.wikidata.org/prop/statement/P594', valueExpr=NodeConstraint(type='NodeConstraint', id=None, nodeKind='literal', datatype=None, values=None), min=None, max=None, onShapeExpression=None, semActs=None, annotations=None)\n",
      "TripleConstraint(type='TripleConstraint', id=None, inverse=None, predicate='http://www.w3.org/ns/prov#wasDerivedFrom', valueExpr='http://www.wikidata.org/entity/#ensembl-gene-reference', min=None, max=None, onShapeExpression=None, semActs=None, annotations=None)\n",
      "http://www.wikidata.org/entity/#P639_refseq_rna_id\n",
      "TripleConstraint(type='TripleConstraint', id=None, inverse=None, predicate='http://www.wikidata.org/prop/statement/P639', valueExpr=NodeConstraint(type='NodeConstraint', id=None, nodeKind='literal', datatype=None, values=None), min=None, max=None, onShapeExpression=None, semActs=None, annotations=None)\n",
      "TripleConstraint(type='TripleConstraint', id=None, inverse=None, predicate='http://www.w3.org/ns/prov#wasDerivedFrom', valueExpr='http://www.wikidata.org/entity/#ncbi-gene-reference', min=None, max=None, onShapeExpression=None, semActs=None, annotations=None)\n",
      "http://www.wikidata.org/entity/#P704_ensembl_transcript_id\n",
      "TripleConstraint(type='TripleConstraint', id=None, inverse=None, predicate='http://www.wikidata.org/prop/statement/P704', valueExpr=NodeConstraint(type='NodeConstraint', id=None, nodeKind='literal', datatype=None, values=None), min=None, max=None, onShapeExpression=None, semActs=None, annotations=None)\n",
      "TripleConstraint(type='TripleConstraint', id=None, inverse=None, predicate='http://www.w3.org/ns/prov#wasDerivedFrom', valueExpr=ShapeOr(type='ShapeOr', id=None, shapeExprs=['http://www.wikidata.org/entity/#ensembl-gene-reference', NodeConstraint(type='NodeConstraint', id=None, nodeKind=None, datatype='http://www.wikidata.org/entity/#ncbi-gene-reference', values=None)]), min=None, max=None, onShapeExpression=None, semActs=None, annotations=None)\n",
      "No valueExpr\n",
      "http://www.wikidata.org/entity/#ncbi-gene-reference\n",
      "TripleConstraint(type='TripleConstraint', id=None, inverse=None, predicate='http://www.wikidata.org/prop/reference/P248', valueExpr=NodeConstraint(type='NodeConstraint', id=None, nodeKind=None, datatype=None, values=['http://www.wikidata.org/entity/Q20641742']), min=None, max=None, onShapeExpression=None, semActs=None, annotations=None)\n",
      "TripleConstraint(type='TripleConstraint', id=None, inverse=None, predicate='http://www.wikidata.org/prop/reference/P351', valueExpr=NodeConstraint(type='NodeConstraint', id=None, nodeKind='literal', datatype=None, values=None), min=None, max=None, onShapeExpression=None, semActs=None, annotations=None)\n",
      "TripleConstraint(type='TripleConstraint', id=None, inverse=None, predicate='http://www.wikidata.org/prop/reference/P813', valueExpr=NodeConstraint(type='NodeConstraint', id=None, nodeKind=None, datatype='http://www.w3.org/2001/XMLSchema#dateTime', values=None), min=None, max=None, onShapeExpression=None, semActs=None, annotations=None)\n",
      "http://www.wikidata.org/entity/#ensembl-gene-reference\n",
      "TripleConstraint(type='TripleConstraint', id=None, inverse=None, predicate='http://www.wikidata.org/prop/reference/P248', valueExpr=NodeConstraint(type='NodeConstraint', id=None, nodeKind=None, datatype=None, values=['http://www.wikidata.org/entity/Q30227110', 'http://www.wikidata.org/entity/Q46401024', 'http://www.wikidata.org/entity/Q57339524', 'http://www.wikidata.org/entity/Q63170780', 'http://www.wikidata.org/entity/Q67600000', 'http://www.wikidata.org/entity/Q71033229', 'http://www.wikidata.org/entity/Q83867711', 'http://www.wikidata.org/entity/Q110249889']), min=None, max=None, onShapeExpression=None, semActs=None, annotations=None)\n",
      "TripleConstraint(type='TripleConstraint', id=None, inverse=None, predicate='http://www.wikidata.org/prop/reference/P594', valueExpr=NodeConstraint(type='NodeConstraint', id=None, nodeKind='literal', datatype=None, values=None), min=None, max=None, onShapeExpression=None, semActs=None, annotations=None)\n",
      "http://www.wikidata.org/entity/#homologene-reference\n",
      "TripleConstraint(type='TripleConstraint', id=None, inverse=None, predicate='http://www.wikidata.org/prop/reference/P248', valueExpr=NodeConstraint(type='NodeConstraint', id=None, nodeKind=None, datatype=None, values=['http://www.wikidata.org/entity/Q20976936']), min=None, max=None, onShapeExpression=None, semActs=None, annotations=None)\n",
      "TripleConstraint(type='TripleConstraint', id=None, inverse=None, predicate='http://www.wikidata.org/prop/reference/P593', valueExpr=NodeConstraint(type='NodeConstraint', id=None, nodeKind='literal', datatype=None, values=None), min=None, max=None, onShapeExpression=None, semActs=None, annotations=None)\n",
      "http://www.wikidata.org/entity/#miriam_reference\n",
      "TripleConstraint(type='TripleConstraint', id=None, inverse=None, predicate='http://www.wikidata.org/prop/reference/P248', valueExpr=NodeConstraint(type='NodeConstraint', id=None, nodeKind=None, datatype=None, values=['http://www.wikidata.org/entity/Q16335166']), min=None, max=None, onShapeExpression=None, semActs=None, annotations=None)\n",
      "TripleConstraint(type='TripleConstraint', id=None, inverse=None, predicate='http://www.wikidata.org/prop/reference/P854', valueExpr=NodeConstraint(type='NodeConstraint', id=None, nodeKind='iri', datatype=None, values=None), min=None, max=None, onShapeExpression=None, semActs=None, annotations=None)\n",
      "http://www.wikidata.org/entity/#uniprot-reference\n",
      "TripleConstraint(type='TripleConstraint', id=None, inverse=None, predicate='http://www.wikidata.org/prop/reference/P248', valueExpr=NodeConstraint(type='NodeConstraint', id=None, nodeKind=None, datatype=None, values=['http://www.wikidata.org/entity/Q905695']), min=None, max=None, onShapeExpression=None, semActs=None, annotations=None)\n",
      "TripleConstraint(type='TripleConstraint', id=None, inverse=None, predicate='http://www.wikidata.org/prop/reference/P352', valueExpr=NodeConstraint(type='NodeConstraint', id=None, nodeKind='literal', datatype=None, values=None), min=None, max=None, onShapeExpression=None, semActs=None, annotations=None)\n",
      "TripleConstraint(type='TripleConstraint', id=None, inverse=None, predicate='http://www.wikidata.org/prop/reference/P813', valueExpr=NodeConstraint(type='NodeConstraint', id=None, nodeKind=None, datatype='http://www.w3.org/2001/XMLSchema#dateTime', values=None), min=None, max=None, onShapeExpression=None, semActs=None, annotations=None)\n",
      "http://www.wikidata.org/entity/#gene_types\n",
      "None\n"
     ]
    },
    {
     "data": {
      "text/plain": "'test.gv.png'"
     },
     "execution_count": 13,
     "metadata": {},
     "output_type": "execute_result"
    }
   ],
   "source": [
    "gv = shex2dot.shex2dot(shex, \"test\")\n",
    "gv.view()"
   ],
   "metadata": {
    "collapsed": false,
    "pycharm": {
     "name": "#%%\n"
    }
   }
  },
  {
   "cell_type": "code",
   "execution_count": null,
   "outputs": [],
   "source": [],
   "metadata": {
    "collapsed": false,
    "pycharm": {
     "name": "#%%\n"
    }
   }
  }
 ],
 "metadata": {
  "kernelspec": {
   "display_name": "Python 3",
   "language": "python",
   "name": "python3"
  },
  "language_info": {
   "codemirror_mode": {
    "name": "ipython",
    "version": 2
   },
   "file_extension": ".py",
   "mimetype": "text/x-python",
   "name": "python",
   "nbconvert_exporter": "python",
   "pygments_lexer": "ipython2",
   "version": "2.7.6"
  }
 },
 "nbformat": 4,
 "nbformat_minor": 0
}