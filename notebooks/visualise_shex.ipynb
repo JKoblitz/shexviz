{
 "cells": [
  {
   "cell_type": "code",
   "execution_count": 1,
   "outputs": [
    {
     "name": "stdout",
     "output_type": "stream",
     "text": [
      "Collecting shexviz\r\n",
      "  Downloading shexviz-0.0.5-py3-none-any.whl (5.3 kB)\r\n",
      "Requirement already satisfied: graphviz in /Users/andra/projects/scheduled-bots/venv/lib/python3.8/site-packages (from shexviz) (0.20.1)\r\n",
      "Requirement already satisfied: pyshex in /Users/andra/projects/scheduled-bots/venv/lib/python3.8/site-packages (from shexviz) (0.8.1)\r\n",
      "Requirement already satisfied: ShExJSG in /Users/andra/projects/scheduled-bots/venv/lib/python3.8/site-packages (from shexviz) (0.8.2)\r\n",
      "Requirement already satisfied: pyshexc==0.9.1 in /Users/andra/projects/scheduled-bots/venv/lib/python3.8/site-packages (from pyshex->shexviz) (0.9.1)\r\n",
      "Requirement already satisfied: rdflib-shim in /Users/andra/projects/scheduled-bots/venv/lib/python3.8/site-packages (from pyshex->shexviz) (1.0.3)\r\n",
      "Requirement already satisfied: sparqlwrapper>=1.8.5 in /Users/andra/projects/scheduled-bots/venv/lib/python3.8/site-packages (from pyshex->shexviz) (2.0.0)\r\n",
      "Requirement already satisfied: chardet in /Users/andra/projects/scheduled-bots/venv/lib/python3.8/site-packages (from pyshex->shexviz) (5.1.0)\r\n",
      "Requirement already satisfied: requests>=2.22.0 in /Users/andra/projects/scheduled-bots/venv/lib/python3.8/site-packages (from pyshex->shexviz) (2.28.2)\r\n",
      "Requirement already satisfied: urllib3 in /Users/andra/projects/scheduled-bots/venv/lib/python3.8/site-packages (from pyshex->shexviz) (1.26.14)\r\n",
      "Requirement already satisfied: cfgraph>=0.2.1 in /Users/andra/projects/scheduled-bots/venv/lib/python3.8/site-packages (from pyshex->shexviz) (0.2.1)\r\n",
      "Requirement already satisfied: sparqlslurper>=0.5.1 in /Users/andra/projects/scheduled-bots/venv/lib/python3.8/site-packages (from pyshex->shexviz) (0.5.1)\r\n",
      "Requirement already satisfied: antlr4-python3-runtime~=4.9.3 in /Users/andra/projects/scheduled-bots/venv/lib/python3.8/site-packages (from pyshexc==0.9.1->pyshex->shexviz) (4.9.3)\r\n",
      "Requirement already satisfied: pyjsg>=0.11.10 in /Users/andra/projects/scheduled-bots/venv/lib/python3.8/site-packages (from pyshexc==0.9.1->pyshex->shexviz) (0.11.10)\r\n",
      "Requirement already satisfied: jsonasobj>=1.2.1 in /Users/andra/projects/scheduled-bots/venv/lib/python3.8/site-packages (from pyshexc==0.9.1->pyshex->shexviz) (2.0.1)\r\n",
      "Requirement already satisfied: rdflib>=0.4.2 in /Users/andra/projects/scheduled-bots/venv/lib/python3.8/site-packages (from cfgraph>=0.2.1->pyshex->shexviz) (6.2.0)\r\n",
      "Requirement already satisfied: charset-normalizer<4,>=2 in /Users/andra/projects/scheduled-bots/venv/lib/python3.8/site-packages (from requests>=2.22.0->pyshex->shexviz) (2.1.1)\r\n",
      "Requirement already satisfied: idna<4,>=2.5 in /Users/andra/projects/scheduled-bots/venv/lib/python3.8/site-packages (from requests>=2.22.0->pyshex->shexviz) (3.4)\r\n",
      "Requirement already satisfied: certifi>=2017.4.17 in /Users/andra/projects/scheduled-bots/venv/lib/python3.8/site-packages (from requests>=2.22.0->pyshex->shexviz) (2022.12.7)\r\n",
      "Requirement already satisfied: rdflib-jsonld==0.6.1 in /Users/andra/projects/scheduled-bots/venv/lib/python3.8/site-packages (from rdflib-shim->pyshex->shexviz) (0.6.1)\r\n",
      "Requirement already satisfied: hbreader in /Users/andra/projects/scheduled-bots/venv/lib/python3.8/site-packages (from jsonasobj>=1.2.1->pyshexc==0.9.1->pyshex->shexviz) (0.9.1)\r\n",
      "Requirement already satisfied: isodate in /Users/andra/projects/scheduled-bots/venv/lib/python3.8/site-packages (from rdflib>=0.4.2->cfgraph>=0.2.1->pyshex->shexviz) (0.6.1)\r\n",
      "Requirement already satisfied: setuptools in /Users/andra/projects/scheduled-bots/venv/lib/python3.8/site-packages (from rdflib>=0.4.2->cfgraph>=0.2.1->pyshex->shexviz) (66.1.1)\r\n",
      "Requirement already satisfied: pyparsing in /Users/andra/projects/scheduled-bots/venv/lib/python3.8/site-packages (from rdflib>=0.4.2->cfgraph>=0.2.1->pyshex->shexviz) (3.0.9)\r\n",
      "Requirement already satisfied: six in /Users/andra/projects/scheduled-bots/venv/lib/python3.8/site-packages (from isodate->rdflib>=0.4.2->cfgraph>=0.2.1->pyshex->shexviz) (1.16.0)\r\n",
      "Installing collected packages: shexviz\r\n",
      "Successfully installed shexviz-0.0.5\r\n",
      "\r\n",
      "\u001B[1m[\u001B[0m\u001B[34;49mnotice\u001B[0m\u001B[1;39;49m]\u001B[0m\u001B[39;49m A new release of pip available: \u001B[0m\u001B[31;49m22.3.1\u001B[0m\u001B[39;49m -> \u001B[0m\u001B[32;49m23.0\u001B[0m\r\n",
      "\u001B[1m[\u001B[0m\u001B[34;49mnotice\u001B[0m\u001B[1;39;49m]\u001B[0m\u001B[39;49m To update, run: \u001B[0m\u001B[32;49mpip install --upgrade pip\u001B[0m\r\n"
     ]
    }
   ],
   "source": [
    "!pip3 install shexviz"
   ],
   "metadata": {
    "collapsed": false,
    "pycharm": {
     "name": "#%%\n"
    }
   }
  },
  {
   "cell_type": "code",
   "execution_count": 2,
   "outputs": [],
   "source": [
    "import sys\n",
    "import shexviz\n"
   ],
   "metadata": {
    "collapsed": false,
    "pycharm": {
     "name": "#%%\n"
    }
   }
  },
  {
   "cell_type": "code",
   "execution_count": null,
   "outputs": [],
   "source": [
    "shexviz.shex2dot()"
   ],
   "metadata": {
    "collapsed": false,
    "pycharm": {
     "name": "#%%\n"
    }
   }
  }
 ],
 "metadata": {
  "kernelspec": {
   "display_name": "Python 3",
   "language": "python",
   "name": "python3"
  },
  "language_info": {
   "codemirror_mode": {
    "name": "ipython",
    "version": 2
   },
   "file_extension": ".py",
   "mimetype": "text/x-python",
   "name": "python",
   "nbconvert_exporter": "python",
   "pygments_lexer": "ipython2",
   "version": "2.7.6"
  }
 },
 "nbformat": 4,
 "nbformat_minor": 0
}